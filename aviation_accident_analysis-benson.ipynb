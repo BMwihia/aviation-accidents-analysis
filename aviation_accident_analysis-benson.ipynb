{
 "cells": [
  {
   "cell_type": "markdown",
   "metadata": {},
   "source": [
    "# AVIATION ACCIDENT ANALYSIS\n",
    "\n",
    "## Business Understanding\n",
    "\n",
    "### Project Goal\n",
    "The objective of this project is to provide data-driven insights to support our company’s strategic expansion into the aviation sector. Using historical aviation accident data, we aim to identify aircraft models, manufacturers, or operational characteristics associated with lower risk profiles. These insights will inform purchasing decisions for both commercial and private aviation operations, helping the company enter this market with a strong understanding of operational safety and associated risks.\n",
    "\n",
    "### Stakeholder\n",
    "The primary stakeholder is the head of the company’s new aviation division. This individual is responsible for assessing investment opportunities, mitigating operational risks, and selecting aircraft for acquisition. While technically proficient in business strategy, the stakeholder may not have a background in data science or aviation analytics. Therefore, our deliverables must translate complex data into clear, actionable insights that directly support business decisions.\n",
    "\n",
    "### Business Context\n",
    "As the company looks to diversify its portfolio, the aviation industry presents both high potential and high risk. Aircraft safety, reliability, and accident history are crucial factors in evaluating which aircraft will provide the best return on investment with the lowest liability. Entering this space without understanding aviation risks could expose the company to avoidable costs, reputational damage, and operational setbacks.\n",
    "\n",
    "This project seeks to reduce that uncertainty by analyzing over 60 years of aviation accident data, surfacing patterns and trends that can guide strategic decisions.\n",
    "\n",
    "### Core Business Questions\n",
    "To ensure the analysis aligns with business goals, we are focusing on the following key questions:\n",
    "\n",
    "- **Which aircraft manufacturers and models have the lowest accident rates?**\n",
    "- **What operational or environmental factors (e.g., location, weather, time of day) correlate with increased risk?**\n",
    "- **How have accident trends evolved over time, and what insights can be drawn for future planning?**\n",
    "- **What recommendations can be made to prioritize safety and reliability in aircraft purchasing decisions?**\n",
    "\n",
    "By answering these questions, this project will deliver three concrete business recommendations tailored to the needs of the aviation division, helping guide safe and strategic market entry.\n"
   ]
  },
  {
   "cell_type": "markdown",
   "metadata": {},
   "source": [
    "##  Data Understanding\n",
    "\n",
    "The dataset, sourced from the National Transportation Safety Board (NTSB), provides a comprehensive record of civil aviation accidents and selected incidents from 1962 through early 2023. This extensive temporal coverage gives us a longitudinal view of aviation safety trends across decades and allows for the identification of patterns in aircraft incidents and risks over time.\n",
    "\n",
    "After initial inspection, the dataset contains **89 columns** and over **93,000 rows**, capturing a wide range of variables—from basic metadata like event IDs and dates to highly specific details such as aircraft engine types, damage extent, flight phases, and weather conditions.\n",
    "\n",
    "Key observations from the initial data exploration include:\n",
    "\n",
    "- **Missing Data**: Several columns contain a significant proportion of missing values. For instance, narrative fields like `weather_condition`, `injury_severity`, and `aircraft_damage` are sparsely populated in certain years. These will require careful imputation or exclusion based on relevance and completeness.\n",
    "- **Data Types**: Most fields are strings or categorical variables. Columns such as `injury_severity`, `aircraft_damage`, and `aircraft_category` will benefit from encoding for analysis.\n",
    "- **Irrelevant Columns**: Several columns (e.g., `investigation_type`, `report_status`, `publication_date`) may not be necessary for addressing the business problem and could be dropped to streamline analysis.\n",
    "- **Duplicate & Redundant Data**: Columns such as `make`, `model`, and `aircraft_serial_number` may appear redundant depending on the level of aggregation. Deduplication may be required after confirming their unique combinations.\n",
    "\n",
    "This understanding forms the foundation for strategic data preparation and business-focused insights. Our next step is to clean and prepare the dataset to identify which aircraft types, conditions, and flight characteristics correlate most strongly with lower incident severity and frequency.\n"
   ]
  },
  {
   "cell_type": "code",
   "execution_count": 4,
   "metadata": {},
   "outputs": [
    {
     "name": "stdout",
     "output_type": "stream",
     "text": [
      "Dataset contains 88,889 rows and 31 columns.\n"
     ]
    },
    {
     "name": "stderr",
     "output_type": "stream",
     "text": [
      "C:\\Users\\USER\\anaconda3\\envs\\learn-env\\lib\\site-packages\\IPython\\core\\interactiveshell.py:3145: DtypeWarning: Columns (6,7,28) have mixed types.Specify dtype option on import or set low_memory=False.\n",
      "  has_raised = await self.run_ast_nodes(code_ast.body, cell_name,\n"
     ]
    },
    {
     "data": {
      "text/html": [
       "<div>\n",
       "<style scoped>\n",
       "    .dataframe tbody tr th:only-of-type {\n",
       "        vertical-align: middle;\n",
       "    }\n",
       "\n",
       "    .dataframe tbody tr th {\n",
       "        vertical-align: top;\n",
       "    }\n",
       "\n",
       "    .dataframe thead th {\n",
       "        text-align: right;\n",
       "    }\n",
       "</style>\n",
       "<table border=\"1\" class=\"dataframe\">\n",
       "  <thead>\n",
       "    <tr style=\"text-align: right;\">\n",
       "      <th></th>\n",
       "      <th>Event.Id</th>\n",
       "      <th>Investigation.Type</th>\n",
       "      <th>Accident.Number</th>\n",
       "      <th>Event.Date</th>\n",
       "      <th>Location</th>\n",
       "      <th>Country</th>\n",
       "      <th>Latitude</th>\n",
       "      <th>Longitude</th>\n",
       "      <th>Airport.Code</th>\n",
       "      <th>Airport.Name</th>\n",
       "      <th>...</th>\n",
       "      <th>Purpose.of.flight</th>\n",
       "      <th>Air.carrier</th>\n",
       "      <th>Total.Fatal.Injuries</th>\n",
       "      <th>Total.Serious.Injuries</th>\n",
       "      <th>Total.Minor.Injuries</th>\n",
       "      <th>Total.Uninjured</th>\n",
       "      <th>Weather.Condition</th>\n",
       "      <th>Broad.phase.of.flight</th>\n",
       "      <th>Report.Status</th>\n",
       "      <th>Publication.Date</th>\n",
       "    </tr>\n",
       "  </thead>\n",
       "  <tbody>\n",
       "    <tr>\n",
       "      <th>0</th>\n",
       "      <td>20001218X45444</td>\n",
       "      <td>Accident</td>\n",
       "      <td>SEA87LA080</td>\n",
       "      <td>1948-10-24</td>\n",
       "      <td>MOOSE CREEK, ID</td>\n",
       "      <td>United States</td>\n",
       "      <td>NaN</td>\n",
       "      <td>NaN</td>\n",
       "      <td>NaN</td>\n",
       "      <td>NaN</td>\n",
       "      <td>...</td>\n",
       "      <td>Personal</td>\n",
       "      <td>NaN</td>\n",
       "      <td>2.0</td>\n",
       "      <td>0.0</td>\n",
       "      <td>0.0</td>\n",
       "      <td>0.0</td>\n",
       "      <td>UNK</td>\n",
       "      <td>Cruise</td>\n",
       "      <td>Probable Cause</td>\n",
       "      <td>NaN</td>\n",
       "    </tr>\n",
       "    <tr>\n",
       "      <th>1</th>\n",
       "      <td>20001218X45447</td>\n",
       "      <td>Accident</td>\n",
       "      <td>LAX94LA336</td>\n",
       "      <td>1962-07-19</td>\n",
       "      <td>BRIDGEPORT, CA</td>\n",
       "      <td>United States</td>\n",
       "      <td>NaN</td>\n",
       "      <td>NaN</td>\n",
       "      <td>NaN</td>\n",
       "      <td>NaN</td>\n",
       "      <td>...</td>\n",
       "      <td>Personal</td>\n",
       "      <td>NaN</td>\n",
       "      <td>4.0</td>\n",
       "      <td>0.0</td>\n",
       "      <td>0.0</td>\n",
       "      <td>0.0</td>\n",
       "      <td>UNK</td>\n",
       "      <td>Unknown</td>\n",
       "      <td>Probable Cause</td>\n",
       "      <td>19-09-1996</td>\n",
       "    </tr>\n",
       "    <tr>\n",
       "      <th>2</th>\n",
       "      <td>20061025X01555</td>\n",
       "      <td>Accident</td>\n",
       "      <td>NYC07LA005</td>\n",
       "      <td>1974-08-30</td>\n",
       "      <td>Saltville, VA</td>\n",
       "      <td>United States</td>\n",
       "      <td>36.9222</td>\n",
       "      <td>-81.8781</td>\n",
       "      <td>NaN</td>\n",
       "      <td>NaN</td>\n",
       "      <td>...</td>\n",
       "      <td>Personal</td>\n",
       "      <td>NaN</td>\n",
       "      <td>3.0</td>\n",
       "      <td>NaN</td>\n",
       "      <td>NaN</td>\n",
       "      <td>NaN</td>\n",
       "      <td>IMC</td>\n",
       "      <td>Cruise</td>\n",
       "      <td>Probable Cause</td>\n",
       "      <td>26-02-2007</td>\n",
       "    </tr>\n",
       "    <tr>\n",
       "      <th>3</th>\n",
       "      <td>20001218X45448</td>\n",
       "      <td>Accident</td>\n",
       "      <td>LAX96LA321</td>\n",
       "      <td>1977-06-19</td>\n",
       "      <td>EUREKA, CA</td>\n",
       "      <td>United States</td>\n",
       "      <td>NaN</td>\n",
       "      <td>NaN</td>\n",
       "      <td>NaN</td>\n",
       "      <td>NaN</td>\n",
       "      <td>...</td>\n",
       "      <td>Personal</td>\n",
       "      <td>NaN</td>\n",
       "      <td>2.0</td>\n",
       "      <td>0.0</td>\n",
       "      <td>0.0</td>\n",
       "      <td>0.0</td>\n",
       "      <td>IMC</td>\n",
       "      <td>Cruise</td>\n",
       "      <td>Probable Cause</td>\n",
       "      <td>12-09-2000</td>\n",
       "    </tr>\n",
       "    <tr>\n",
       "      <th>4</th>\n",
       "      <td>20041105X01764</td>\n",
       "      <td>Accident</td>\n",
       "      <td>CHI79FA064</td>\n",
       "      <td>1979-08-02</td>\n",
       "      <td>Canton, OH</td>\n",
       "      <td>United States</td>\n",
       "      <td>NaN</td>\n",
       "      <td>NaN</td>\n",
       "      <td>NaN</td>\n",
       "      <td>NaN</td>\n",
       "      <td>...</td>\n",
       "      <td>Personal</td>\n",
       "      <td>NaN</td>\n",
       "      <td>1.0</td>\n",
       "      <td>2.0</td>\n",
       "      <td>NaN</td>\n",
       "      <td>0.0</td>\n",
       "      <td>VMC</td>\n",
       "      <td>Approach</td>\n",
       "      <td>Probable Cause</td>\n",
       "      <td>16-04-1980</td>\n",
       "    </tr>\n",
       "  </tbody>\n",
       "</table>\n",
       "<p>5 rows × 31 columns</p>\n",
       "</div>"
      ],
      "text/plain": [
       "         Event.Id Investigation.Type Accident.Number  Event.Date  \\\n",
       "0  20001218X45444           Accident      SEA87LA080  1948-10-24   \n",
       "1  20001218X45447           Accident      LAX94LA336  1962-07-19   \n",
       "2  20061025X01555           Accident      NYC07LA005  1974-08-30   \n",
       "3  20001218X45448           Accident      LAX96LA321  1977-06-19   \n",
       "4  20041105X01764           Accident      CHI79FA064  1979-08-02   \n",
       "\n",
       "          Location        Country Latitude Longitude Airport.Code  \\\n",
       "0  MOOSE CREEK, ID  United States      NaN       NaN          NaN   \n",
       "1   BRIDGEPORT, CA  United States      NaN       NaN          NaN   \n",
       "2    Saltville, VA  United States  36.9222  -81.8781          NaN   \n",
       "3       EUREKA, CA  United States      NaN       NaN          NaN   \n",
       "4       Canton, OH  United States      NaN       NaN          NaN   \n",
       "\n",
       "  Airport.Name  ... Purpose.of.flight Air.carrier Total.Fatal.Injuries  \\\n",
       "0          NaN  ...          Personal         NaN                  2.0   \n",
       "1          NaN  ...          Personal         NaN                  4.0   \n",
       "2          NaN  ...          Personal         NaN                  3.0   \n",
       "3          NaN  ...          Personal         NaN                  2.0   \n",
       "4          NaN  ...          Personal         NaN                  1.0   \n",
       "\n",
       "  Total.Serious.Injuries Total.Minor.Injuries Total.Uninjured  \\\n",
       "0                    0.0                  0.0             0.0   \n",
       "1                    0.0                  0.0             0.0   \n",
       "2                    NaN                  NaN             NaN   \n",
       "3                    0.0                  0.0             0.0   \n",
       "4                    2.0                  NaN             0.0   \n",
       "\n",
       "  Weather.Condition  Broad.phase.of.flight   Report.Status Publication.Date  \n",
       "0               UNK                 Cruise  Probable Cause              NaN  \n",
       "1               UNK                Unknown  Probable Cause       19-09-1996  \n",
       "2               IMC                 Cruise  Probable Cause       26-02-2007  \n",
       "3               IMC                 Cruise  Probable Cause       12-09-2000  \n",
       "4               VMC               Approach  Probable Cause       16-04-1980  \n",
       "\n",
       "[5 rows x 31 columns]"
      ]
     },
     "execution_count": 4,
     "metadata": {},
     "output_type": "execute_result"
    }
   ],
   "source": [
    "# Import necessary libraries\n",
    "import pandas as pd\n",
    "\n",
    "# Load the dataset with alternative encoding\n",
    "file_path = 'data/AviationData.csv'\n",
    "df = pd.read_csv(file_path, encoding='latin1')\n",
    "\n",
    "# View the shape of the dataset\n",
    "print(f\"Dataset contains {df.shape[0]:,} rows and {df.shape[1]} columns.\")\n",
    "\n",
    "# Display the first 5 rows of the dataset\n",
    "df.head()"
   ]
  },
  {
   "cell_type": "markdown",
   "metadata": {},
   "source": [
    "## Data Preparation\n",
    "The goal here is to prepare a high-quality dataset that enables effective business analysis and modeling. Based on our earlier data understanding, we'll focus on the following key tasks:"
   ]
  },
  {
   "cell_type": "markdown",
   "metadata": {},
   "source": [
    "### Drop Irrelevant Columns"
   ]
  },
  {
   "cell_type": "markdown",
   "metadata": {},
   "source": [
    "These are metadata or administrative fields that don't contribute to understanding accident patterns."
   ]
  },
  {
   "cell_type": "code",
   "execution_count": 8,
   "metadata": {},
   "outputs": [],
   "source": [
    "irrelevant_cols = [\n",
    "    'investigation_type', 'report_status', 'publication_date',\n",
    "    'airport_name', 'airport_code', 'latitude', 'longitude',\n",
    "    'event_id', 'registration_number', 'aircraft_serial_number'\n",
    "]\n",
    "\n",
    "df.drop(columns=irrelevant_cols, inplace=True, errors='ignore')\n"
   ]
  },
  {
   "cell_type": "markdown",
   "metadata": {},
   "source": [
    "### Handle Missing Values"
   ]
  },
  {
   "cell_type": "markdown",
   "metadata": {},
   "source": [
    "We’ll start by checking the percentage of missing data per column and drop columns that are largely empty or irrelevant."
   ]
  },
  {
   "cell_type": "code",
   "execution_count": 9,
   "metadata": {},
   "outputs": [
    {
     "name": "stdout",
     "output_type": "stream",
     "text": [
      "Schedule                  85.845268\n",
      "Air.carrier               81.271023\n",
      "FAR.Description           63.974170\n",
      "Aircraft.Category         63.677170\n",
      "Longitude                 61.330423\n",
      "Latitude                  61.320298\n",
      "Airport.Code              43.469946\n",
      "Airport.Name              40.611324\n",
      "Broad.phase.of.flight     30.560587\n",
      "Publication.Date          15.492356\n",
      "Total.Serious.Injuries    14.073732\n",
      "Total.Minor.Injuries      13.424608\n",
      "Total.Fatal.Injuries      12.826109\n",
      "Engine.Type                7.961615\n",
      "Report.Status              7.178616\n",
      "Purpose.of.flight          6.965991\n",
      "Number.of.Engines          6.844491\n",
      "Total.Uninjured            6.650992\n",
      "Weather.Condition          5.053494\n",
      "Aircraft.damage            3.593246\n",
      "dtype: float64\n"
     ]
    }
   ],
   "source": [
    "# Display missing data percentage\n",
    "missing_percent = df.isnull().mean().sort_values(ascending=False) * 100\n",
    "print(missing_percent.head(20))"
   ]
  },
  {
   "cell_type": "code",
   "execution_count": 10,
   "metadata": {},
   "outputs": [],
   "source": [
    "threshold = 0.7  # 70%\n",
    "df = df.loc[:, df.isnull().mean() < threshold]"
   ]
  },
  {
   "cell_type": "markdown",
   "metadata": {},
   "source": [
    "### Standardize Categorical Columns"
   ]
  },
  {
   "cell_type": "markdown",
   "metadata": {},
   "source": [
    " Convert text fields to lowercase and strip spaces to prepare for encoding."
   ]
  },
  {
   "cell_type": "code",
   "execution_count": 12,
   "metadata": {},
   "outputs": [],
   "source": [
    "cat_cols = df.select_dtypes(include='object').columns\n",
    "\n",
    "df[cat_cols] = df[cat_cols].apply(lambda col: col.str.lower().str.strip())"
   ]
  },
  {
   "cell_type": "markdown",
   "metadata": {},
   "source": [
    "### Convert Dates and Extract Features"
   ]
  },
  {
   "cell_type": "markdown",
   "metadata": {},
   "source": [
    "Convert the event_date into datetime format and extract useful features like year and month."
   ]
  },
  {
   "cell_type": "code",
   "execution_count": 16,
   "metadata": {},
   "outputs": [
    {
     "name": "stdout",
     "output_type": "stream",
     "text": [
      "['Event.Id', 'Investigation.Type', 'Accident.Number', 'Event.Date', 'Location', 'Country', 'Latitude', 'Longitude', 'Airport.Code', 'Airport.Name', 'Injury.Severity', 'Aircraft.damage', 'Aircraft.Category', 'Registration.Number', 'Make', 'Model', 'Amateur.Built', 'Number.of.Engines', 'Engine.Type', 'FAR.Description', 'Purpose.of.flight', 'Total.Fatal.Injuries', 'Total.Serious.Injuries', 'Total.Minor.Injuries', 'Total.Uninjured', 'Weather.Condition', 'Broad.phase.of.flight', 'Report.Status', 'Publication.Date']\n"
     ]
    }
   ],
   "source": [
    "print(df.columns.tolist())"
   ]
  },
  {
   "cell_type": "code",
   "execution_count": 18,
   "metadata": {},
   "outputs": [],
   "source": [
    "# Convert 'Event.Date' to datetime format\n",
    "df['Event.Date'] = pd.to_datetime(df['Event.Date'], errors='coerce')\n",
    "\n",
    "# Extract year and month from the date\n",
    "df['event_year'] = df['Event.Date'].dt.year\n",
    "df['event_month'] = df['Event.Date'].dt.month"
   ]
  },
  {
   "cell_type": "markdown",
   "metadata": {},
   "source": [
    "### Encode Target and Important Features"
   ]
  },
  {
   "cell_type": "markdown",
   "metadata": {},
   "source": [
    "For analysis and modeling, we’ll encode key categorical variables:"
   ]
  },
  {
   "cell_type": "code",
   "execution_count": 20,
   "metadata": {},
   "outputs": [],
   "source": [
    "from sklearn.preprocessing import LabelEncoder\n",
    "\n",
    "label_cols = ['Injury.Severity', 'Aircraft.damage', 'Aircraft.Category']\n",
    "\n",
    "le = LabelEncoder()\n",
    "for col in label_cols:\n",
    "    if df[col].notnull().sum() > 0:\n",
    "        df[col] = le.fit_transform(df[col].astype(str))"
   ]
  },
  {
   "cell_type": "markdown",
   "metadata": {},
   "source": [
    "### Final Check"
   ]
  },
  {
   "cell_type": "markdown",
   "metadata": {},
   "source": [
    "Verifying the shape, datatypes, and null values:"
   ]
  },
  {
   "cell_type": "code",
   "execution_count": 21,
   "metadata": {},
   "outputs": [
    {
     "name": "stdout",
     "output_type": "stream",
     "text": [
      "(88889, 31)\n",
      "Event.Id                          object\n",
      "Investigation.Type                object\n",
      "Accident.Number                   object\n",
      "Event.Date                datetime64[ns]\n",
      "Location                          object\n",
      "Country                           object\n",
      "Latitude                          object\n",
      "Longitude                         object\n",
      "Airport.Code                      object\n",
      "Airport.Name                      object\n",
      "Injury.Severity                    int32\n",
      "Aircraft.damage                    int32\n",
      "Aircraft.Category                  int32\n",
      "Registration.Number               object\n",
      "Make                              object\n",
      "Model                             object\n",
      "Amateur.Built                     object\n",
      "Number.of.Engines                float64\n",
      "Engine.Type                       object\n",
      "FAR.Description                   object\n",
      "Purpose.of.flight                 object\n",
      "Total.Fatal.Injuries             float64\n",
      "Total.Serious.Injuries           float64\n",
      "Total.Minor.Injuries             float64\n",
      "Total.Uninjured                  float64\n",
      "Weather.Condition                 object\n",
      "Broad.phase.of.flight             object\n",
      "Report.Status                     object\n",
      "Publication.Date                  object\n",
      "event_year                         int64\n",
      "event_month                        int64\n",
      "dtype: object\n",
      "FAR.Description           56866\n",
      "Longitude                 54525\n",
      "Latitude                  54516\n",
      "Airport.Code              38640\n",
      "Airport.Name              36099\n",
      "Broad.phase.of.flight     27165\n",
      "Publication.Date          13771\n",
      "Total.Serious.Injuries    12510\n",
      "Total.Minor.Injuries      11933\n",
      "Total.Fatal.Injuries      11401\n",
      "dtype: int64\n"
     ]
    }
   ],
   "source": [
    "print(df.shape)\n",
    "print(df.dtypes)\n",
    "print(df.isnull().sum().sort_values(ascending=False).head(10))"
   ]
  },
  {
   "cell_type": "markdown",
   "metadata": {},
   "source": [
    "## Exploratory Data Analysis"
   ]
  },
  {
   "cell_type": "markdown",
   "metadata": {},
   "source": [
    "Identifying factors that correlate with lower incident severity and frequency"
   ]
  },
  {
   "cell_type": "markdown",
   "metadata": {},
   "source": [
    "### Incident Severity Distribution"
   ]
  },
  {
   "cell_type": "markdown",
   "metadata": {},
   "source": [
    "How often do different levels of severity occur?"
   ]
  },
  {
   "cell_type": "code",
   "execution_count": 22,
   "metadata": {},
   "outputs": [
    {
     "data": {
      "image/png": "[encoded data removed]",
      "text/plain": [
       "<Figure size 432x288 with 1 Axes>"
      ]
     },
     "metadata": {
      "needs_background": "light"
     },
     "output_type": "display_data"
    }
   ],
   "source": [
    "import seaborn as sns\n",
    "import matplotlib.pyplot as plt\n",
    "\n",
    "# Plot distribution of Injury Severity\n",
    "sns.countplot(data=df, x='Injury.Severity', order=df['Injury.Severity'].value_counts().index)\n",
    "plt.title('Distribution of Injury Severity')\n",
    "plt.xticks(rotation=45)\n",
    "plt.tight_layout()\n",
    "plt.show()"
   ]
  },
  {
   "cell_type": "code",
   "execution_count": null,
   "metadata": {},
   "outputs": [],
   "source": []
  }
 ],
 "metadata": {
  "kernelspec": {
   "display_name": "Python (learn-env)",
   "language": "python",
   "name": "learn-env"
  },
  "language_info": {
   "codemirror_mode": {
    "name": "ipython",
    "version": 3
   },
   "file_extension": ".py",
   "mimetype": "text/x-python",
   "name": "python",
   "nbconvert_exporter": "python",
   "pygments_lexer": "ipython3",
   "version": "3.8.5"
  }
 },
 "nbformat": 4,
 "nbformat_minor": 4
}
