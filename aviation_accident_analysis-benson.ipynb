{
 "cells": [
  {
   "cell_type": "markdown",
   "metadata": {},
   "source": [
    "## Business Understanding\n",
    "\n",
    "### Project Goal\n",
    "The goal of this project is to analyze aviation accident data to identify low-risk aircraft options for a company seeking to expand into the aviation industry. By understanding trends and factors related to aviation accidents, we aim to make data-driven recommendations that will help minimize risk in future aircraft acquisitions.\n",
    "\n",
    "### Stakeholder\n",
    "The primary stakeholder for this project is the head of the new aviation division. This individual is responsible for making strategic decisions about which aircraft to purchase for commercial and private use. The stakeholder does not have a technical background, so clear, actionable insights will be crucial.\n",
    "\n",
    "### Business Problem\n",
    "The company is venturing into a new line of business—owning and operating aircraft. However, they currently lack internal knowledge of aviation risks. They are looking to determine which aircraft types, manufacturers, or other characteristics are associated with the lowest accident rates. \n",
    "\n",
    "### Key Business Questions\n",
    "- Which aircraft types and manufacturers have the lowest incident and accident rates?\n",
    "- Are there any common patterns or risk factors among higher-risk aircraft?\n",
    "- How do accident trends vary over time or by location?\n",
    "- What recommendations can we make to guide aircraft acquisition based on risk?\n",
    "\n",
    "Our analysis will lead to three specific business recommendations based on these questions, helping the aviation division make informed and safe purchasing decisions.\n"
   ]
  },
  {
   "cell_type": "code",
   "execution_count": null,
   "metadata": {},
   "outputs": [],
   "source": []
  }
 ],
 "metadata": {
  "kernelspec": {
   "display_name": "Python (learn-env)",
   "language": "python",
   "name": "learn-env"
  },
  "language_info": {
   "codemirror_mode": {
    "name": "ipython",
    "version": 3
   },
   "file_extension": ".py",
   "mimetype": "text/x-python",
   "name": "python",
   "nbconvert_exporter": "python",
   "pygments_lexer": "ipython3",
   "version": "3.8.5"
  }
 },
 "nbformat": 4,
 "nbformat_minor": 4
}
